{
 "cells": [
  {
   "cell_type": "markdown",
   "metadata": {},
   "source": [
    "# Multiple Linear Regression - Advertising Budget Optimization"
   ]
  },
  {
   "cell_type": "markdown",
   "metadata": {},
   "source": [
    "### In this problem, we are given a dataset consisting of three predictors (money spent on tv, radio, and newspaper advertising in thousands of dollars) and one response (sales in millions of dollars). The goal of this project is create the best linear regression model given these predictors. This linear model will then be used to maximize predicted sales by optimizing budget allocation."
   ]
  },
  {
   "cell_type": "code",
   "execution_count": 82,
   "metadata": {},
   "outputs": [
    {
     "data": {
      "text/html": [
       "<div>\n",
       "<style scoped>\n",
       "    .dataframe tbody tr th:only-of-type {\n",
       "        vertical-align: middle;\n",
       "    }\n",
       "\n",
       "    .dataframe tbody tr th {\n",
       "        vertical-align: top;\n",
       "    }\n",
       "\n",
       "    .dataframe thead th {\n",
       "        text-align: right;\n",
       "    }\n",
       "</style>\n",
       "<table border=\"1\" class=\"dataframe\">\n",
       "  <thead>\n",
       "    <tr style=\"text-align: right;\">\n",
       "      <th></th>\n",
       "      <th>tv</th>\n",
       "      <th>radio</th>\n",
       "      <th>newspaper</th>\n",
       "      <th>sales</th>\n",
       "    </tr>\n",
       "  </thead>\n",
       "  <tbody>\n",
       "    <tr>\n",
       "      <th>0</th>\n",
       "      <td>230.1</td>\n",
       "      <td>37.8</td>\n",
       "      <td>69.2</td>\n",
       "      <td>22.1</td>\n",
       "    </tr>\n",
       "    <tr>\n",
       "      <th>1</th>\n",
       "      <td>44.5</td>\n",
       "      <td>39.3</td>\n",
       "      <td>45.1</td>\n",
       "      <td>10.4</td>\n",
       "    </tr>\n",
       "    <tr>\n",
       "      <th>2</th>\n",
       "      <td>17.2</td>\n",
       "      <td>45.9</td>\n",
       "      <td>69.3</td>\n",
       "      <td>9.3</td>\n",
       "    </tr>\n",
       "    <tr>\n",
       "      <th>3</th>\n",
       "      <td>151.5</td>\n",
       "      <td>41.3</td>\n",
       "      <td>58.5</td>\n",
       "      <td>18.5</td>\n",
       "    </tr>\n",
       "    <tr>\n",
       "      <th>4</th>\n",
       "      <td>180.8</td>\n",
       "      <td>10.8</td>\n",
       "      <td>58.4</td>\n",
       "      <td>12.9</td>\n",
       "    </tr>\n",
       "  </tbody>\n",
       "</table>\n",
       "</div>"
      ],
      "text/plain": [
       "      tv  radio  newspaper  sales\n",
       "0  230.1   37.8       69.2   22.1\n",
       "1   44.5   39.3       45.1   10.4\n",
       "2   17.2   45.9       69.3    9.3\n",
       "3  151.5   41.3       58.5   18.5\n",
       "4  180.8   10.8       58.4   12.9"
      ]
     },
     "execution_count": 82,
     "metadata": {},
     "output_type": "execute_result"
    }
   ],
   "source": [
    "import pandas as pd\n",
    "import numpy as np\n",
    "import matplotlib.pyplot as plt \n",
    "import seaborn as sns\n",
    "import statsmodels.api as sm\n",
    "import math\n",
    "from sklearn.model_selection import train_test_split\n",
    "from sklearn.preprocessing import MinMaxScaler\n",
    "from sklearn.metrics import r2_score\n",
    "from sklearn.feature_selection import RFE, RFECV\n",
    "from sklearn.linear_model import LinearRegression\n",
    "from sklearn.model_selection import cross_val_score, cross_validate, RepeatedStratifiedKFold, RepeatedKFold\n",
    "from statsmodels.stats.outliers_influence import variance_inflation_factor\n",
    "from itertools import combinations, combinations_with_replacement\n",
    "from sklearn.pipeline import Pipeline\n",
    "from scipy import stats\n",
    "from scipy.optimize import minimize\n",
    "\n",
    "# import the data\n",
    "raw = pd.read_csv('Advertising.csv').iloc[:, 1:]\n",
    "raw.columns = ['tv', 'radio', 'newspaper', 'sales']\n",
    "raw.head()"
   ]
  },
  {
   "cell_type": "code",
   "execution_count": 83,
   "metadata": {},
   "outputs": [
    {
     "data": {
      "text/html": [
       "<div>\n",
       "<style scoped>\n",
       "    .dataframe tbody tr th:only-of-type {\n",
       "        vertical-align: middle;\n",
       "    }\n",
       "\n",
       "    .dataframe tbody tr th {\n",
       "        vertical-align: top;\n",
       "    }\n",
       "\n",
       "    .dataframe thead th {\n",
       "        text-align: right;\n",
       "    }\n",
       "</style>\n",
       "<table border=\"1\" class=\"dataframe\">\n",
       "  <thead>\n",
       "    <tr style=\"text-align: right;\">\n",
       "      <th></th>\n",
       "      <th>tv</th>\n",
       "      <th>radio</th>\n",
       "      <th>newspaper</th>\n",
       "      <th>sales</th>\n",
       "    </tr>\n",
       "  </thead>\n",
       "  <tbody>\n",
       "    <tr>\n",
       "      <th>count</th>\n",
       "      <td>200.000000</td>\n",
       "      <td>200.000000</td>\n",
       "      <td>200.000000</td>\n",
       "      <td>200.000000</td>\n",
       "    </tr>\n",
       "    <tr>\n",
       "      <th>mean</th>\n",
       "      <td>147.042500</td>\n",
       "      <td>23.264000</td>\n",
       "      <td>30.554000</td>\n",
       "      <td>14.022500</td>\n",
       "    </tr>\n",
       "    <tr>\n",
       "      <th>std</th>\n",
       "      <td>85.854236</td>\n",
       "      <td>14.846809</td>\n",
       "      <td>21.778621</td>\n",
       "      <td>5.217457</td>\n",
       "    </tr>\n",
       "    <tr>\n",
       "      <th>min</th>\n",
       "      <td>0.700000</td>\n",
       "      <td>0.000000</td>\n",
       "      <td>0.300000</td>\n",
       "      <td>1.600000</td>\n",
       "    </tr>\n",
       "    <tr>\n",
       "      <th>25%</th>\n",
       "      <td>74.375000</td>\n",
       "      <td>9.975000</td>\n",
       "      <td>12.750000</td>\n",
       "      <td>10.375000</td>\n",
       "    </tr>\n",
       "    <tr>\n",
       "      <th>50%</th>\n",
       "      <td>149.750000</td>\n",
       "      <td>22.900000</td>\n",
       "      <td>25.750000</td>\n",
       "      <td>12.900000</td>\n",
       "    </tr>\n",
       "    <tr>\n",
       "      <th>75%</th>\n",
       "      <td>218.825000</td>\n",
       "      <td>36.525000</td>\n",
       "      <td>45.100000</td>\n",
       "      <td>17.400000</td>\n",
       "    </tr>\n",
       "    <tr>\n",
       "      <th>max</th>\n",
       "      <td>296.400000</td>\n",
       "      <td>49.600000</td>\n",
       "      <td>114.000000</td>\n",
       "      <td>27.000000</td>\n",
       "    </tr>\n",
       "  </tbody>\n",
       "</table>\n",
       "</div>"
      ],
      "text/plain": [
       "               tv       radio   newspaper       sales\n",
       "count  200.000000  200.000000  200.000000  200.000000\n",
       "mean   147.042500   23.264000   30.554000   14.022500\n",
       "std     85.854236   14.846809   21.778621    5.217457\n",
       "min      0.700000    0.000000    0.300000    1.600000\n",
       "25%     74.375000    9.975000   12.750000   10.375000\n",
       "50%    149.750000   22.900000   25.750000   12.900000\n",
       "75%    218.825000   36.525000   45.100000   17.400000\n",
       "max    296.400000   49.600000  114.000000   27.000000"
      ]
     },
     "execution_count": 83,
     "metadata": {},
     "output_type": "execute_result"
    }
   ],
   "source": [
    "raw.describe()"
   ]
  },
  {
   "cell_type": "markdown",
   "metadata": {},
   "source": [
    "## Data Exploration"
   ]
  },
  {
   "cell_type": "markdown",
   "metadata": {},
   "source": [
    "### First, we create a scatterplot for each predictor vs. the response to get a general idea of the relationship between them."
   ]
  },
  {
   "cell_type": "code",
   "execution_count": 84,
   "metadata": {},
   "outputs": [
    {
     "data": {
      "image/png": "[encoded data removed]",
      "text/plain": [
       "<Figure size 1800x360 with 3 Axes>"
      ]
     },
     "metadata": {
      "needs_background": "light"
     },
     "output_type": "display_data"
    }
   ],
   "source": [
    "def make_plots(df):\n",
    "    plt.figure(figsize=(25, 5))\n",
    "\n",
    "    for n, col in enumerate(df.columns[:-1]):\n",
    "        ax = plt.subplot(1, df.shape[1], n+1)\n",
    "\n",
    "        sns.regplot(x=df[col], y=df[list(df.columns)[-1]], ax=ax)\n",
    "\n",
    "        ax.set_title(col.capitalize() + ' vs. Sales')\n",
    "        ax.set_xlabel(col.capitalize())\n",
    "        ax.set_ylabel('Sales')\n",
    "\n",
    "    plt.show()\n",
    "\n",
    "    return\n",
    "\n",
    "make_plots(raw)"
   ]
  },
  {
   "cell_type": "markdown",
   "metadata": {},
   "source": [
    "### From the plots above, we can see that there is an approximately linear relationship between at least some of the predictors and the repsonse, indicating that a linear model may be a good fit for our data. \n",
    "\n",
    "### TV Advertising appears to be the best predictor of Sales, followed by Radio Advertising, and finally Newspaper Advertising. We can verify this by printing out the correlation matrix below."
   ]
  },
  {
   "cell_type": "code",
   "execution_count": 85,
   "metadata": {},
   "outputs": [
    {
     "name": "stdout",
     "output_type": "stream",
     "text": [
      "Correlation Matrix:\n",
      "\n",
      "                  tv     radio  newspaper     sales\n",
      "tv         1.000000  0.054809   0.056648  0.782224\n",
      "radio      0.054809  1.000000   0.354104  0.576223\n",
      "newspaper  0.056648  0.354104   1.000000  0.228299\n",
      "sales      0.782224  0.576223   0.228299  1.000000\n"
     ]
    }
   ],
   "source": [
    "print('Correlation Matrix:\\n\\n', raw.corr())"
   ]
  },
  {
   "cell_type": "markdown",
   "metadata": {},
   "source": [
    "### We can also see from the correlation matrix that the predictors are not overly correlated with eachother (which is an assumption of our linear model). This means we likely will not have to deal with multicollineary between the predictors. We can verify this by analyzing the VIF (variation inflation factor) of each of these predictors. "
   ]
  },
  {
   "cell_type": "code",
   "execution_count": 86,
   "metadata": {},
   "outputs": [
    {
     "data": {
      "text/html": [
       "<div>\n",
       "<style scoped>\n",
       "    .dataframe tbody tr th:only-of-type {\n",
       "        vertical-align: middle;\n",
       "    }\n",
       "\n",
       "    .dataframe tbody tr th {\n",
       "        vertical-align: top;\n",
       "    }\n",
       "\n",
       "    .dataframe thead th {\n",
       "        text-align: right;\n",
       "    }\n",
       "</style>\n",
       "<table border=\"1\" class=\"dataframe\">\n",
       "  <thead>\n",
       "    <tr style=\"text-align: right;\">\n",
       "      <th></th>\n",
       "      <th>predictors</th>\n",
       "      <th>vif</th>\n",
       "    </tr>\n",
       "  </thead>\n",
       "  <tbody>\n",
       "    <tr>\n",
       "      <th>0</th>\n",
       "      <td>tv</td>\n",
       "      <td>2.486772</td>\n",
       "    </tr>\n",
       "    <tr>\n",
       "      <th>1</th>\n",
       "      <td>radio</td>\n",
       "      <td>3.285462</td>\n",
       "    </tr>\n",
       "    <tr>\n",
       "      <th>2</th>\n",
       "      <td>newspaper</td>\n",
       "      <td>3.055245</td>\n",
       "    </tr>\n",
       "  </tbody>\n",
       "</table>\n",
       "</div>"
      ],
      "text/plain": [
       "  predictors       vif\n",
       "0         tv  2.486772\n",
       "1      radio  3.285462\n",
       "2  newspaper  3.055245"
      ]
     },
     "execution_count": 86,
     "metadata": {},
     "output_type": "execute_result"
    }
   ],
   "source": [
    "def calc_vif(df):\n",
    "    vif = pd.DataFrame()\n",
    "    vif['predictors'] = df.columns\n",
    "    vif['vif'] = [variance_inflation_factor(df.values, i) for i in range(df.shape[1])]\n",
    "\n",
    "    return vif\n",
    "\n",
    "vif = calc_vif(raw.iloc[:, :-1])\n",
    "vif"
   ]
  },
  {
   "cell_type": "markdown",
   "metadata": {},
   "source": [
    "### All of the VIFs are less than 5, indicating little multicollinearity between the predictors. \n",
    "\n",
    "### Before we start building models, let's remove any outlier samples. We'll remove any samples where the value for any predictor is larger than 3 standard deviations away from the mean of that predictor."
   ]
  },
  {
   "cell_type": "code",
   "execution_count": 87,
   "metadata": {},
   "outputs": [
    {
     "name": "stdout",
     "output_type": "stream",
     "text": [
      "Number of non-outlier samples:  198\n"
     ]
    }
   ],
   "source": [
    "raw = raw[(np.abs(stats.zscore(raw)) < 3).all(axis=1)]\n",
    "print('Number of non-outlier samples: ', raw.shape[0])"
   ]
  },
  {
   "cell_type": "markdown",
   "metadata": {},
   "source": [
    "### Our original dataset had 200 rows. We have removed 2 outlier samples."
   ]
  },
  {
   "cell_type": "markdown",
   "metadata": {},
   "source": [
    "## Creating a Baseline"
   ]
  },
  {
   "cell_type": "markdown",
   "metadata": {},
   "source": [
    "### We'll now run an Ordinary Least Squares Regression on the dataset. Here we are regressing Sales onto the three predictor variables to establish a baseline. Our goal for this project is to build a model that outperforms this baseline. We'll be using R-squared as our primary performance indicator."
   ]
  },
  {
   "cell_type": "code",
   "execution_count": 88,
   "metadata": {},
   "outputs": [],
   "source": [
    "# defining our performance indicator\n",
    "def r2(y_actual, y_predicted):\n",
    "    y_actual = np.array(y_actual)  \n",
    "    y_predicted = np.array(y_predicted)\n",
    "    \n",
    "    sst = np.sum((y_actual - y_actual.mean())**2)\n",
    "    ssr = np.sum((y_predicted - y_actual)**2)\n",
    "    r2_score = 1 - (ssr/sst)\n",
    "\n",
    "    return round(r2_score, 3)\n",
    "\n",
    "# function that scales the predictors using MinMaxScaler(), implements OLS, and predicts using X_test \n",
    "def linreg(df, scale=False):         \n",
    "    X = df.iloc[:, :-1]\n",
    "    y = list(df.iloc[:, -1])\n",
    "\n",
    "    X_train, X_test, y_train, y_test = train_test_split(X, y, test_size=.25, train_size=.75, random_state=20)\n",
    "\n",
    "    if scale:\n",
    "        scaler = MinMaxScaler() # scaling our features is not neccessary, but it helps with model efficiency\n",
    "        X_train = pd.DataFrame(scaler.fit_transform(X_train), columns=list(X.columns))\n",
    "        X_test = pd.DataFrame(scaler.fit_transform(X_test), columns=list(X.columns))\n",
    "\n",
    "    X_train = sm.add_constant(X_train)\n",
    "    X_test = sm.add_constant(X_test)\n",
    "\n",
    "    ols = sm.OLS(y_train, X_train).fit()\n",
    "    linreg.summary = ols.summary()\n",
    "    linreg.coefs = ols.params\n",
    "    linreg.y_pred = ols.predict(X_test)\n",
    "    linreg.y_test = y_test\n",
    "    linreg.resid = np.subtract(np.array(linreg.y_test), np.array(linreg.y_pred))\n",
    "    linreg.r2 = r2(linreg.y_test, linreg.y_pred)\n",
    "    \n",
    "    return"
   ]
  },
  {
   "cell_type": "code",
   "execution_count": 89,
   "metadata": {},
   "outputs": [
    {
     "name": "stdout",
     "output_type": "stream",
     "text": [
      "The R-squared on the test data is: 0.912\n",
      "\n",
      "                             OLS Regression Results                            \n",
      "==============================================================================\n",
      "Dep. Variable:                      y   R-squared:                       0.887\n",
      "Model:                            OLS   Adj. R-squared:                  0.885\n",
      "Method:                 Least Squares   F-statistic:                     377.2\n",
      "Date:                Tue, 01 Mar 2022   Prob (F-statistic):           5.65e-68\n",
      "Time:                        16:55:36   Log-Likelihood:                -284.61\n",
      "No. Observations:                 148   AIC:                             577.2\n",
      "Df Residuals:                     144   BIC:                             589.2\n",
      "Df Model:                           3                                         \n",
      "Covariance Type:            nonrobust                                         \n",
      "==============================================================================\n",
      "                 coef    std err          t      P>|t|      [0.025      0.975]\n",
      "------------------------------------------------------------------------------\n",
      "const          3.2486      0.368      8.825      0.000       2.521       3.976\n",
      "tv            13.1024      0.494     26.526      0.000      12.126      14.079\n",
      "radio          9.0190      0.493     18.287      0.000       8.044       9.994\n",
      "newspaper      0.1993      0.668      0.298      0.766      -1.121       1.519\n",
      "==============================================================================\n",
      "Omnibus:                       58.606   Durbin-Watson:                   2.074\n",
      "Prob(Omnibus):                  0.000   Jarque-Bera (JB):              185.067\n",
      "Skew:                          -1.528   Prob(JB):                     6.50e-41\n",
      "Kurtosis:                       7.546   Cond. No.                         6.45\n",
      "==============================================================================\n",
      "\n",
      "Notes:\n",
      "[1] Standard Errors assume that the covariance matrix of the errors is correctly specified.\n"
     ]
    }
   ],
   "source": [
    "# running the linear regression model on the raw data\n",
    "linreg(raw, scale=True)\n",
    "print(f'The R-squared on the test data is: {linreg.r2}\\n\\n', linreg.summary)"
   ]
  },
  {
   "cell_type": "markdown",
   "metadata": {},
   "source": [
    "### This baseline model achieves an R-squared score of .912 on the test data.\n",
    "\n",
    "### We can see in the OLS Resgression Result table that the F-statistic >> 1 and the p-value for the F-statistic is extremely close to 0, indication that at least one of the advertising media is related to sales. Another thing to note, however, is that the p-value for the Newspaper advertising predictor is much larger than .05 and its coefficient is nearly 0. This indicates that Newpaper advertising may not be an effective predictor for Sales."
   ]
  },
  {
   "cell_type": "markdown",
   "metadata": {},
   "source": [
    "## Interactions"
   ]
  },
  {
   "cell_type": "markdown",
   "metadata": {},
   "source": [
    "### Before we start feature selection, let's create interaction variables. To keep things simple for explanatory purposes, we're only going to look at interactions of order 2, though this could be increased for more complex datasets."
   ]
  },
  {
   "cell_type": "code",
   "execution_count": 90,
   "metadata": {},
   "outputs": [],
   "source": [
    "def create_interactions(input_df, order=None):\n",
    "    \"\"\"\n",
    "    Outputs a new df that includes a column for all interaction terms up to the specified order.\n",
    " \n",
    "    Args:\n",
    "        input_df: A df with n columns where the first n-1 columns are predictors and the n-th column is a response  \n",
    "        order: The maximum number of features multiplied together in the interaction terms (i.e if [x0, x1] are the original predictors and order = 2, then the new predictors will be [x0, x1, x0**2, x0*x1, x1**2]). If order=None, then the maximum order of the interaction terms is equal to the number of predictors in the input_df.\n",
    "\n",
    "    Returns: \n",
    "        A df that includes a new column for every interaction term up to the specified order with the response variable as the last column\n",
    "    \"\"\"\n",
    "    response_name = list(input_df.columns)[-1]\n",
    "    df = input_df.iloc[:, :-1]\n",
    "    response = input_df.iloc[:, -1]\n",
    "\n",
    "    attrs = list(df.columns)\n",
    "    combs = []\n",
    "\n",
    "    if order == None:\n",
    "        max_terms = len(attrs) + 1\n",
    "    else:\n",
    "        max_terms = order + 1\n",
    "\n",
    "    for n in range(2, max_terms):\n",
    "        combs.append([i for i in combinations_with_replacement(attrs, n)])\n",
    "\n",
    "    combs = [item for sublist in combs for item in sublist]\n",
    "\n",
    "    for i in combs:\n",
    "        new_col_name = \"*\".join(i)\n",
    "        new_col_vals = df[i[0]]\n",
    "\n",
    "        for j in range(1, len(i)):\n",
    "            new_col_vals = new_col_vals * df[i[j]]\n",
    "\n",
    "        df[new_col_name] = new_col_vals\n",
    "\n",
    "    df[response_name] = response\n",
    "\n",
    "    return df"
   ]
  },
  {
   "cell_type": "code",
   "execution_count": 91,
   "metadata": {},
   "outputs": [
    {
     "data": {
      "text/html": [
       "<div>\n",
       "<style scoped>\n",
       "    .dataframe tbody tr th:only-of-type {\n",
       "        vertical-align: middle;\n",
       "    }\n",
       "\n",
       "    .dataframe tbody tr th {\n",
       "        vertical-align: top;\n",
       "    }\n",
       "\n",
       "    .dataframe thead th {\n",
       "        text-align: right;\n",
       "    }\n",
       "</style>\n",
       "<table border=\"1\" class=\"dataframe\">\n",
       "  <thead>\n",
       "    <tr style=\"text-align: right;\">\n",
       "      <th></th>\n",
       "      <th>tv</th>\n",
       "      <th>radio</th>\n",
       "      <th>newspaper</th>\n",
       "      <th>tv*tv</th>\n",
       "      <th>tv*radio</th>\n",
       "      <th>tv*newspaper</th>\n",
       "      <th>radio*radio</th>\n",
       "      <th>radio*newspaper</th>\n",
       "      <th>newspaper*newspaper</th>\n",
       "      <th>sales</th>\n",
       "    </tr>\n",
       "  </thead>\n",
       "  <tbody>\n",
       "    <tr>\n",
       "      <th>0</th>\n",
       "      <td>230.1</td>\n",
       "      <td>37.8</td>\n",
       "      <td>69.2</td>\n",
       "      <td>52946.01</td>\n",
       "      <td>8697.78</td>\n",
       "      <td>15922.92</td>\n",
       "      <td>1428.84</td>\n",
       "      <td>2615.76</td>\n",
       "      <td>4788.64</td>\n",
       "      <td>22.1</td>\n",
       "    </tr>\n",
       "    <tr>\n",
       "      <th>1</th>\n",
       "      <td>44.5</td>\n",
       "      <td>39.3</td>\n",
       "      <td>45.1</td>\n",
       "      <td>1980.25</td>\n",
       "      <td>1748.85</td>\n",
       "      <td>2006.95</td>\n",
       "      <td>1544.49</td>\n",
       "      <td>1772.43</td>\n",
       "      <td>2034.01</td>\n",
       "      <td>10.4</td>\n",
       "    </tr>\n",
       "    <tr>\n",
       "      <th>2</th>\n",
       "      <td>17.2</td>\n",
       "      <td>45.9</td>\n",
       "      <td>69.3</td>\n",
       "      <td>295.84</td>\n",
       "      <td>789.48</td>\n",
       "      <td>1191.96</td>\n",
       "      <td>2106.81</td>\n",
       "      <td>3180.87</td>\n",
       "      <td>4802.49</td>\n",
       "      <td>9.3</td>\n",
       "    </tr>\n",
       "    <tr>\n",
       "      <th>3</th>\n",
       "      <td>151.5</td>\n",
       "      <td>41.3</td>\n",
       "      <td>58.5</td>\n",
       "      <td>22952.25</td>\n",
       "      <td>6256.95</td>\n",
       "      <td>8862.75</td>\n",
       "      <td>1705.69</td>\n",
       "      <td>2416.05</td>\n",
       "      <td>3422.25</td>\n",
       "      <td>18.5</td>\n",
       "    </tr>\n",
       "    <tr>\n",
       "      <th>4</th>\n",
       "      <td>180.8</td>\n",
       "      <td>10.8</td>\n",
       "      <td>58.4</td>\n",
       "      <td>32688.64</td>\n",
       "      <td>1952.64</td>\n",
       "      <td>10558.72</td>\n",
       "      <td>116.64</td>\n",
       "      <td>630.72</td>\n",
       "      <td>3410.56</td>\n",
       "      <td>12.9</td>\n",
       "    </tr>\n",
       "  </tbody>\n",
       "</table>\n",
       "</div>"
      ],
      "text/plain": [
       "      tv  radio  newspaper     tv*tv  tv*radio  tv*newspaper  radio*radio  \\\n",
       "0  230.1   37.8       69.2  52946.01   8697.78      15922.92      1428.84   \n",
       "1   44.5   39.3       45.1   1980.25   1748.85       2006.95      1544.49   \n",
       "2   17.2   45.9       69.3    295.84    789.48       1191.96      2106.81   \n",
       "3  151.5   41.3       58.5  22952.25   6256.95       8862.75      1705.69   \n",
       "4  180.8   10.8       58.4  32688.64   1952.64      10558.72       116.64   \n",
       "\n",
       "   radio*newspaper  newspaper*newspaper  sales  \n",
       "0          2615.76              4788.64   22.1  \n",
       "1          1772.43              2034.01   10.4  \n",
       "2          3180.87              4802.49    9.3  \n",
       "3          2416.05              3422.25   18.5  \n",
       "4           630.72              3410.56   12.9  "
      ]
     },
     "execution_count": 91,
     "metadata": {},
     "output_type": "execute_result"
    }
   ],
   "source": [
    "df = create_interactions(raw, order=2)\n",
    "df.head()"
   ]
  },
  {
   "cell_type": "markdown",
   "metadata": {},
   "source": [
    "### Our new datafram has 6 new columns for each interaction of order 2. We now have 9 predictors along with our original response variable.\n",
    "\n",
    "### Here we are going to use sklearn's LinearRegression() so we can take advantage of RFECV (Recursive Feature Elimination with Cross Validation) and automatically elimate the least import features that would likely cause overfitting. RFECV uses cross validation to automatically select the optimal number of predictors to use in our linear regression model in each iteration. We'll keep track of which predictors the model uses in each iteration to build the final model."
   ]
  },
  {
   "cell_type": "code",
   "execution_count": 92,
   "metadata": {},
   "outputs": [
    {
     "name": "stdout",
     "output_type": "stream",
     "text": [
      "Average R-squared Score: 0.983\n"
     ]
    }
   ],
   "source": [
    "# split the data\n",
    "X = df.iloc[:, :-1]\n",
    "y = df.iloc[:, -1]\n",
    "\n",
    "# create pipeline\n",
    "scaler = MinMaxScaler() # scaling is not neccessary, but helps with model efficiency\n",
    "rfe = RFECV(estimator=LinearRegression())\n",
    "model = LinearRegression()\n",
    "pipe = Pipeline(steps=[('scaler', scaler), ('rfe', rfe), ('model', model)])\n",
    "\n",
    "# evaluate the model\n",
    "cv = RepeatedKFold(n_splits=10, n_repeats=3, random_state=27)\n",
    "result = cross_validate(pipe, X, y, scoring='r2', cv=cv, return_estimator=True, n_jobs=-1, error_score='raise')\n",
    "\n",
    "avg_r2 = np.mean(np.array(result['test_score']))\n",
    "print(f'Average R-squared Score: {round(avg_r2, 3)}')"
   ]
  },
  {
   "cell_type": "markdown",
   "metadata": {},
   "source": [
    "### The average R-squared for our new model is around .983, which is a significant improvement over our baseline of .912."
   ]
  },
  {
   "cell_type": "markdown",
   "metadata": {},
   "source": [
    "## Feature Selection"
   ]
  },
  {
   "cell_type": "markdown",
   "metadata": {},
   "source": [
    "### Now let's take a look at how many predictors, *p*, the model used in each iteration. We'll also look at which predictors the model used and use RFECV's built-in attribute *ranking_* to identify the top *p* predictors of Sales.  "
   ]
  },
  {
   "cell_type": "code",
   "execution_count": 93,
   "metadata": {},
   "outputs": [],
   "source": [
    "# look through each iteration of the model and keep track of which features were used and how many were used\n",
    "feature_rank = pd.DataFrame(columns = X.columns)\n",
    "\n",
    "num_features = []\n",
    "for iter, pipe in enumerate(result['estimator']):\n",
    "    rank = []\n",
    "    num_features.append(pipe['rfe'].n_features_)\n",
    "    for i in range(X.shape[1]):\n",
    "        rank.append(pipe['rfe'].ranking_[i])\n",
    "\n",
    "    feature_rank.loc[len(feature_rank)] = rank"
   ]
  },
  {
   "cell_type": "code",
   "execution_count": 94,
   "metadata": {},
   "outputs": [
    {
     "name": "stdout",
     "output_type": "stream",
     "text": [
      "Mean: 5.766666666666667\n",
      "Median: 6.0\n",
      "Mode: 4\n",
      "The number of predictors to use in model, p: 5\n"
     ]
    }
   ],
   "source": [
    "# look at some basic statistical metrics for the number of features were used to see if we can confidently identify the amount of features to use in our model\n",
    "num_features = np.array(num_features)\n",
    "\n",
    "mean = np.mean(num_features)\n",
    "median = np.median(num_features)\n",
    "most_common = stats.mode(num_features)[0][0]\n",
    "p = math.floor(np.mean([mean, median, most_common]))\n",
    "\n",
    "print(f'Mean: {mean}')\n",
    "print(f'Median: {median}')\n",
    "print(f'Mode: {most_common}')\n",
    "print(f'The number of predictors to use in model, p: {p}')"
   ]
  },
  {
   "cell_type": "markdown",
   "metadata": {},
   "source": [
    "### The mean, median, and mode of the number of features the model opted to use in each iteration are all between 4 and 6. I've decided to use 5 - the average of the mean, median, and mode rounded down to the nearest integer - as the number of features we will use in the next version of our model.\n",
    "\n",
    "### Now we are going to use RFECV's built-in attribute *ranking_* to select the top 5 most important features for our model."
   ]
  },
  {
   "cell_type": "code",
   "execution_count": 95,
   "metadata": {},
   "outputs": [
    {
     "name": "stdout",
     "output_type": "stream",
     "text": [
      "The top 5 most important features are: tv, radio, tv*tv, tv*radio, tv*newspaper\n"
     ]
    }
   ],
   "source": [
    "# looks at the top p most used features and the top p with the lowest rank\n",
    "features = list(pd.DataFrame(feature_rank.sum(axis=0).sort_values().head(p)).T.columns)\n",
    "\n",
    "print(f'The top {p} most important features are: {\", \".join(features)}')"
   ]
  },
  {
   "cell_type": "markdown",
   "metadata": {},
   "source": [
    "### Now that we have our 5 most important features, we're going to fit our OLS regression model using these features. We are looking for an R-squared score higher than our baseline and p-values < .05."
   ]
  },
  {
   "cell_type": "code",
   "execution_count": 96,
   "metadata": {},
   "outputs": [
    {
     "name": "stdout",
     "output_type": "stream",
     "text": [
      "The R-squared on the test data is: 0.982\n",
      "\n",
      "                             OLS Regression Results                            \n",
      "==============================================================================\n",
      "Dep. Variable:                      y   R-squared:                       0.985\n",
      "Model:                            OLS   Adj. R-squared:                  0.984\n",
      "Method:                 Least Squares   F-statistic:                     1827.\n",
      "Date:                Tue, 01 Mar 2022   Prob (F-statistic):          6.13e-127\n",
      "Time:                        16:55:39   Log-Likelihood:                -136.76\n",
      "No. Observations:                 148   AIC:                             285.5\n",
      "Df Residuals:                     142   BIC:                             303.5\n",
      "Df Model:                           5                                         \n",
      "Covariance Type:            nonrobust                                         \n",
      "================================================================================\n",
      "                   coef    std err          t      P>|t|      [0.025      0.975]\n",
      "--------------------------------------------------------------------------------\n",
      "const            5.5569      0.240     23.146      0.000       5.082       6.031\n",
      "tv              14.0201      0.824     17.010      0.000      12.391      15.650\n",
      "radio            1.3507      0.355      3.800      0.000       0.648       2.053\n",
      "tv*tv           -8.9511      0.716    -12.506      0.000     -10.366      -7.536\n",
      "tv*radio        15.0283      0.585     25.688      0.000      13.872      16.185\n",
      "tv*newspaper    -0.1049      0.321     -0.327      0.744      -0.739       0.529\n",
      "==============================================================================\n",
      "Omnibus:                      162.689   Durbin-Watson:                   1.650\n",
      "Prob(Omnibus):                  0.000   Jarque-Bera (JB):             5961.854\n",
      "Skew:                          -3.861   Prob(JB):                         0.00\n",
      "Kurtosis:                      33.119   Cond. No.                         28.6\n",
      "==============================================================================\n",
      "\n",
      "Notes:\n",
      "[1] Standard Errors assume that the covariance matrix of the errors is correctly specified.\n"
     ]
    }
   ],
   "source": [
    "# run multiple linear regression model using statsmodels OLS to get the p-value for each feature\n",
    "cols = features + [df.columns[-1]]\n",
    "df1 = df[cols]\n",
    "linreg(df1, scale=True)\n",
    "print(f'The R-squared on the test data is: {linreg.r2}\\n\\n', linreg.summary)"
   ]
  },
  {
   "cell_type": "markdown",
   "metadata": {},
   "source": [
    "### We see that *newspaper* does not appear in our top 5 predictors, but the interaction term *tv\\*newspaper* does. In this case, we'd normally add *newspaper* to our model because we do not want a main effect to appear in an interaction term when it is not in the model itself. But because the p_value for *tv\\*newspaper* is > .05, we are going to remove it from our model and rerun it."
   ]
  },
  {
   "cell_type": "code",
   "execution_count": 97,
   "metadata": {},
   "outputs": [
    {
     "name": "stdout",
     "output_type": "stream",
     "text": [
      "The R-squared on the test data is: 0.982\n",
      "\n",
      "                             OLS Regression Results                            \n",
      "==============================================================================\n",
      "Dep. Variable:                      y   R-squared:                       0.985\n",
      "Model:                            OLS   Adj. R-squared:                  0.984\n",
      "Method:                 Least Squares   F-statistic:                     2298.\n",
      "Date:                Tue, 01 Mar 2022   Prob (F-statistic):          1.27e-128\n",
      "Time:                        16:55:39   Log-Likelihood:                -136.81\n",
      "No. Observations:                 148   AIC:                             283.6\n",
      "Df Residuals:                     143   BIC:                             298.6\n",
      "Df Model:                           4                                         \n",
      "Covariance Type:            nonrobust                                         \n",
      "==============================================================================\n",
      "                 coef    std err          t      P>|t|      [0.025      0.975]\n",
      "------------------------------------------------------------------------------\n",
      "const          5.5590      0.239     23.236      0.000       5.086       6.032\n",
      "tv            13.9782      0.812     17.221      0.000      12.374      15.583\n",
      "radio          1.3499      0.354      3.810      0.000       0.649       2.050\n",
      "tv*tv         -8.9403      0.713    -12.543      0.000     -10.349      -7.531\n",
      "tv*radio      14.9998      0.577     26.010      0.000      13.860      16.140\n",
      "==============================================================================\n",
      "Omnibus:                      162.742   Durbin-Watson:                   1.648\n",
      "Prob(Omnibus):                  0.000   Jarque-Bera (JB):             5957.163\n",
      "Skew:                          -3.864   Prob(JB):                         0.00\n",
      "Kurtosis:                      33.105   Cond. No.                         28.1\n",
      "==============================================================================\n",
      "\n",
      "Notes:\n",
      "[1] Standard Errors assume that the covariance matrix of the errors is correctly specified.\n"
     ]
    }
   ],
   "source": [
    "# Remove predictor columns with largest p-value > .05. \n",
    "# Careful not to remove main effect columns (tv, newspaper, radio) if they appear elsewhere in an interaction\n",
    "df2 = df1.drop(df1.columns[4], axis=1, inplace=False)\n",
    "linreg(df2, scale=True)\n",
    "print(f'The R-squared on the test data is: {linreg.r2}\\n\\n', linreg.summary)"
   ]
  },
  {
   "cell_type": "markdown",
   "metadata": {},
   "source": [
    "### Now that all our predictors' p-values are less than .05, we are done with feature selection and have our final model. The model's R-squared score is .982, which is around 8% better than our baseline! This is essentially the same R-squared score that we had before removing the *tv\\*newspaper*, but a simpler model is generally better for explanatory purposes and is less likely to overfit.\n",
    " \n",
    "### Our final estimate for our response variable, Sales, is:\n",
    "### *y_hat* = 5.56 + 13.98(*tv*) + 1.35(*radio*) - 8.94(*tv x tv*) + 15.00(*tv x radio*)\n",
    "### where all the predictors are scaled versions of themselves according to MinMaxScaler()."
   ]
  },
  {
   "cell_type": "markdown",
   "metadata": {},
   "source": [
    "## Residual Analysis of Error Terms"
   ]
  },
  {
   "cell_type": "markdown",
   "metadata": {},
   "source": [
    "### We now need to evaluate the residuals. Ideally, a histogram of our residuals will be normally distributed and our residual plot will show no discernible pattern."
   ]
  },
  {
   "cell_type": "code",
   "execution_count": 98,
   "metadata": {},
   "outputs": [
    {
     "data": {
      "image/png": "[encoded data removed]",
      "text/plain": [
       "<Figure size 1152x360 with 2 Axes>"
      ]
     },
     "metadata": {
      "needs_background": "light"
     },
     "output_type": "display_data"
    }
   ],
   "source": [
    "fig, axes = plt.subplots(1, 2, figsize=(16,5))\n",
    "\n",
    "h = sns.histplot(linreg.resid, bins=20, kde=True, stat=\"density\", linewidth=0, ax=axes[0])\n",
    "h.set(title='Residual Histogram')\n",
    "h.set_xlabel(\"Error\")\n",
    "h.set_ylabel(\"Frequency\")\n",
    "\n",
    "s = sns.regplot(x=linreg.y_test, y=linreg.resid, ax=axes[1])\n",
    "s.set(title='Residual Plot')\n",
    "s.set_xlabel(\"Actual\")\n",
    "s.set_ylabel(\"Error\")\n",
    "\n",
    "plt.show()"
   ]
  },
  {
   "cell_type": "markdown",
   "metadata": {},
   "source": [
    "### The histogram is approximately normally distributed with a center at nearly 0, which is a requirement for linear regression. The points on our residual plot, on the other hand, are not completely randomly dispersed. This indicates that the relationship between Sales and the predictors used in the model is not perfectly linear - which is to be somewhat expected. \n",
    "\n",
    "### While there is defintely a discernible pattern in our residual plot, our OLS Regression is still a very good model for this data. This model achieved an R-squared score of .982, meaning that more than 98% of the variance in our response varaible can be explained by our predictors. A non-linear model likely would have performed marginally better, but the OLS Regression model is easy to interpret and explain - which is extremely important in the real world, especialy when trying to decide how to spend a marketing budget. "
   ]
  },
  {
   "cell_type": "markdown",
   "metadata": {},
   "source": [
    "## Budget Optimization"
   ]
  },
  {
   "cell_type": "markdown",
   "metadata": {},
   "source": [
    "### In our original model, we scaled our predictors to make our coefficients more readable and improve the efficiency of our model. However, if we want to predict sales given certain values for TV and Radio spending, we need to run the model on our unscaled data to get the proper coefficients. This won't change the predictive power of our model in any way."
   ]
  },
  {
   "cell_type": "code",
   "execution_count": 99,
   "metadata": {},
   "outputs": [
    {
     "name": "stdout",
     "output_type": "stream",
     "text": [
      "Regression Function: sales = 5.525604 + 0.047724(tv) + 0.027215(radio) + -0.000104(tv*tv) + 0.001108(tv*radio)\n"
     ]
    }
   ],
   "source": [
    "linreg(df2)\n",
    "betas = np.around(np.array(linreg.coefs), decimals=6)\n",
    "vars = list(df2.columns)\n",
    "print(f'Regression Function: {vars[-1]} = {betas[0]} + {betas[1]}({vars[0]}) + {betas[2]}({vars[1]}) + {betas[3]}({vars[2]}) + {betas[4]}({vars[3]})')"
   ]
  },
  {
   "cell_type": "markdown",
   "metadata": {},
   "source": [
    "### Now that we have our regression function, we are going to maximize predicted sales given a budget of $250 (thousand). Here, we are only concerned with TV and Radio advertising because we could not reject the null hypothesis that the coefficient for Newspaper advertising in the regression equation was equal to 0."
   ]
  },
  {
   "cell_type": "code",
   "execution_count": 100,
   "metadata": {},
   "outputs": [],
   "source": [
    "# initialize our budget as well as our objective and constraint functions\n",
    "max_budget = 250\n",
    "\n",
    "def objective(x):\n",
    "    x1 = x[0]\n",
    "    x2 = x[1]\n",
    "    variables = np.array([1, x1, x2, x1**2, x1*x2])\n",
    "    coefs = np.array(linreg.coefs)\n",
    "    obj = -np.dot(variables, coefs)\n",
    "    \n",
    "    return obj\n",
    "\n",
    "def constraint(x):\n",
    "    return max_budget - x[0] - x[1]"
   ]
  },
  {
   "cell_type": "code",
   "execution_count": 101,
   "metadata": {},
   "outputs": [],
   "source": [
    "x0 = np.zeros(2)\n",
    "b = (0.0, 250.0)\n",
    "bounds = (b, b)\n",
    "con = {'type': 'ineq', 'fun': constraint}\n",
    "solution = minimize(objective, x0, method='SLSQP', bounds=bounds, constraints=con)"
   ]
  },
  {
   "cell_type": "code",
   "execution_count": 102,
   "metadata": {},
   "outputs": [
    {
     "name": "stdout",
     "output_type": "stream",
     "text": [
      "The company should spend $122000 on TV advertising and $127000 on Radio advertising.\n",
      "The predicted value for sales with this budget breakdown is $30000000.\n"
     ]
    }
   ],
   "source": [
    "print(f'The company should spend ${1000*int(solution[\"x\"][0])} on TV advertising and ${1000*int(solution[\"x\"][1])} on Radio advertising.')\n",
    "print(f'The predicted value for sales with this budget breakdown is ${1000000*int(-solution[\"fun\"])}.')"
   ]
  },
  {
   "cell_type": "code",
   "execution_count": null,
   "metadata": {},
   "outputs": [],
   "source": []
  }
 ],
 "metadata": {
  "kernelspec": {
   "display_name": "Python 3",
   "language": "python",
   "name": "python3"
  },
  "language_info": {
   "codemirror_mode": {
    "name": "ipython",
    "version": 3
   },
   "file_extension": ".py",
   "mimetype": "text/x-python",
   "name": "python",
   "nbconvert_exporter": "python",
   "pygments_lexer": "ipython3",
   "version": "3.8.5"
  }
 },
 "nbformat": 4,
 "nbformat_minor": 4
}
